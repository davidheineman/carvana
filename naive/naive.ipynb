{
 "cells": [
  {
   "cell_type": "code",
   "execution_count": 17,
   "metadata": {},
   "outputs": [
    {
     "name": "stdout",
     "output_type": "stream",
     "text": [
      "Wall time: 596 ms\n"
     ]
    }
   ],
   "source": [
    "%%time\n",
    "import os\n",
    "with open(os.getcwd() + '../data/test_small.txt', encoding='utf-8') as f:\n",
    "    words = f.read().split(\" \")"
   ]
  },
  {
   "cell_type": "code",
   "execution_count": 3,
   "metadata": {},
   "outputs": [],
   "source": [
    "# Naive solution: load entire file into memory, iterate through and store each pair of 3 in memory, convert to a Pandas Series and have it do all the work"
   ]
  },
  {
   "cell_type": "code",
   "execution_count": 4,
   "metadata": {},
   "outputs": [
    {
     "name": "stdout",
     "output_type": "stream",
     "text": [
      "Wall time: 1.68 s\n"
     ]
    }
   ],
   "source": [
    "%%time\n",
    "import pandas as pd\n",
    "output = pd.Series([f\"{words[i]} {words[i+1]} {words[i+2]}\" for i in range(len(words) - 2)]).value_counts().keys().to_list()[:100]"
   ]
  },
  {
   "cell_type": "code",
   "execution_count": 5,
   "metadata": {},
   "outputs": [],
   "source": [
    "# Improvement 1: No Pandas"
   ]
  },
  {
   "cell_type": "code",
   "execution_count": 6,
   "metadata": {},
   "outputs": [],
   "source": [
    "%%time\n",
    "pairs = [f\"{words[i]} {words[i+1]} {words[i+2]}\" for i in range(len(words) - 2)]\n",
    "output = [x[0] for x in sorted([[pair, pairs.count(pair)] for pair in set(pairs)], key=lambda x: x[1], reverse=True)[:100]]"
   ]
  },
  {
   "cell_type": "code",
   "execution_count": 7,
   "metadata": {},
   "outputs": [],
   "source": [
    "# Improvement 2: Dictionary instead of lists"
   ]
  },
  {
   "cell_type": "code",
   "execution_count": 18,
   "metadata": {},
   "outputs": [
    {
     "name": "stdout",
     "output_type": "stream",
     "text": [
      "Wall time: 3.08 s\n"
     ]
    }
   ],
   "source": [
    "%%time\n",
    "pairs = {}\n",
    "for i in range(len(words) - 2):\n",
    "    pair = f\"{words[i]} {words[i+1]} {words[i+2]}\"\n",
    "    pairs[pair] = 0 if pairs.get(pair) == None else pairs[pair] + 1\n",
    "output = [x[0] for x in sorted(pairs.items(), key=lambda x: x[1], reverse=True)[:100]]"
   ]
  },
  {
   "cell_type": "code",
   "execution_count": 9,
   "metadata": {},
   "outputs": [],
   "source": [
    "# Improvement 3: replace words with ids"
   ]
  },
  {
   "cell_type": "code",
   "execution_count": 10,
   "metadata": {},
   "outputs": [
    {
     "name": "stdout",
     "output_type": "stream",
     "text": [
      "Wall time: 6 ms\n"
     ]
    }
   ],
   "source": [
    "%%time\n",
    "i = 0\n",
    "a = {}\n",
    "for w in set(words):\n",
    "    a[w] = i\n",
    "    i += 1\n",
    "    \n",
    "pairs = {}\n",
    "for i in range(len(words) - 2):\n",
    "    pair = a[words[i]] + a[words[i+1]] + a[words[i+2]]\n",
    "    pairs[pair] = 0 if pairs.get(pair) == None else pairs[pair] + 1\n",
    "output = [x[0] for x in sorted(pairs.items(), key=lambda x: x[1], reverse=True)[:100]]"
   ]
  }
 ],
 "metadata": {
  "kernelspec": {
   "display_name": "Python 3 Root Install",
   "language": "python",
   "name": "python3"
  },
  "language_info": {
   "codemirror_mode": {
    "name": "ipython",
    "version": 3
   },
   "file_extension": ".py",
   "mimetype": "text/x-python",
   "name": "python",
   "nbconvert_exporter": "python",
   "pygments_lexer": "ipython3",
   "version": "3.9.0"
  }
 },
 "nbformat": 4,
 "nbformat_minor": 4
}
